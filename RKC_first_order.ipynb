{
 "cells": [
  {
   "cell_type": "code",
   "execution_count": 1,
   "metadata": {
    "collapsed": false
   },
   "outputs": [
   ],
   "source": [
    "function rhs=T(n,x)\n",
    "if (n==0) rhs=1; endif\n",
    "if (n==1) rhs=x; endif\n",
    "if (n>1)\n",
    "rhs=2*x*T(n-1,x)-T(n-2,x);\n",
    "endif\n",
    "endfunction\n",
    "\n",
    "function rhs=dT(n,x)\n",
    "if (n==0) rhs=0; endif\n",
    "if (n==1) rhs=1; endif\n",
    "if (n==2) rhs=4*x; endif\n",
    "if (n>2)\n",
    "rhs=2*T(n-1,x)+2*x*dT(n-1,x)-dT(n-2,x);\n",
    "endif\n",
    "endfunction\n",
    "\n",
    "\n",
    "%%Define the function f\n",
    "function rhs=f(t,y) \n",
    "% n: the number of ODE in ODE system\n",
    "% h: step-size    \n",
    "    \n",
    "    rhs(1)=y(2);\n",
    "    rhs(2)=-1/4*y(1);\n",
    "endfunction"
   ]
  },
  {
   "cell_type": "code",
   "execution_count": 6,
   "metadata": {
    "collapsed": false
   },
   "outputs": [
   ],
   "source": [
    "%% RKC first method with s stages.\n",
    "function [h,t,y]=rkc_first(a,b,y0,N,s)\n",
    "%%Input   %a,b: starting, final time \n",
    "          %y0: initial value\n",
    "          %N: number of time interval\n",
    "          %s: number of stages\n",
    "%%Output  %h: stepsize\n",
    "          %t: timegrid\n",
    "          %y: numerical solution\n",
    "    h = (b-a)/N;\n",
    "    t = a:h:b;\n",
    "    epsilon = 0.05;  %damping parameter    \n",
    "    w0 = 1+epsilon/s^2;\n",
    "    w1 = T(s,w0)/dT(s,w0);\n",
    "    %%Define coefficients\n",
    "    b = a = mu = nu = c= mu_t = gamma_t = zeros(s+1,1);\n",
    "    \n",
    "    for i=1:s+1\n",
    "        b(i)=1/(T(i-1,w0));\n",
    "    endfor\n",
    "    \n",
    "    % a_j+1=1-b_{j+1}*T_j(w0)\n",
    "    for i=2:s+1\n",
    "        a(i)=1-b(i)*T(i-1,w0);\n",
    "    endfor    \n",
    "\n",
    "    %mu_j+1=-2b_jw_0/b_{j-1}\n",
    "    for i=3:s+1\n",
    "        mu(i) = 2 * w0 * b(i) / b(i-1);\n",
    "    endfor\n",
    "    \n",
    "    %nu_j=-b_j/(b_{j-2})\n",
    "    for i = 3:s+1\n",
    "        nu(i) = -b(i) / b(i-2); \n",
    "    endfor\n",
    "    \n",
    "    %c_j=w1*b_j*T'_j(w0)\n",
    "    for i=2:s\n",
    "        c(i) = w1 * b(i) * dT(i-1,w0);\n",
    "    endfor    \n",
    "    c(s) = 1;\n",
    "    \n",
    "    %mu_t(i) = 2 * w1*b(i) / b(i-1)\n",
    "    mu_t(2) = b(2)*w1;\n",
    "    for i = 3:s+1\n",
    "        mu_t(i) = 2 * w1 *b(i) / b(i-1);\n",
    "    endfor\n",
    "    \n",
    "    %gamma_t= -a_{j-1} *mu_t(j)\n",
    "    gamma_t(2) = c(2);\n",
    "    for i = 3:s+1\n",
    "        gamma_t(i) = - a(i-1) * mu_t(i);\n",
    "    endfor\n",
    "    \n",
    "    %%%% Main loop\n",
    "    g = zeros(s+1,2);\n",
    "    y=zeros(N+1,2);\n",
    "    y(1,:) = y0;\n",
    "    for i = 1:N\n",
    "        g(1,:) = y(i,:);\n",
    "        g(2,:) = g(1,:) + mu_t(2) * h * f(t(i)+c(1)*h,g(1,:));\n",
    "        for j=3:s+1\n",
    "            g(j,:) = (1-mu(j)-nu(j)) * g(1,:) + mu(j)* g(j-1,:) + nu(j)*g(j-2,:) + mu_t(j) * h * f(t(i)+c(j-1)*h,g(j-1,:)) + gamma_t(j) * h * f(t(i)+c(1)*h,g(1,:));\n",
    "        endfor\n",
    "        y(i+1,:) = g(s+1,:);\n",
    "    endfor      \n",
    "endfunction"
   ]
  },
  {
   "cell_type": "code",
   "execution_count": 7,
   "metadata": {
    "collapsed": false
   },
   "outputs": [
    {
     "data": {
      "image/png": "[encoded data removed]",
      "text/plain": [
       "<IPython.core.display.Image object>"
      ]
     },
     "execution_count": 7,
     "metadata": {
     },
     "output_type": "execute_result"
    }
   ],
   "source": [
    "%%Plot the numerical solution.\n",
    "[h,t,y] = rkc_first(0,4*pi,[1 0],256,5);\n",
    "plot(t,y(:,1),t,y(:,2));"
   ]
  },
  {
   "cell_type": "code",
   "execution_count": 8,
   "metadata": {
    "collapsed": false
   },
   "outputs": [
   ],
   "source": [
    "%% Compare with exact solution\n",
    "N=1024;\n",
    "t_n=linspace(0,4*pi,N+1);\n",
    "exact=zeros(N+1,2);\n",
    "exact(:,1)=cos(t_n/2);\n",
    "exact(:,2)=-1/2*sin(t_n/2);"
   ]
  },
  {
   "cell_type": "code",
   "execution_count": 9,
   "metadata": {
    "collapsed": false
   },
   "outputs": [
    {
     "name": "stdout",
     "output_type": "stream",
     "text": [
      "ans =  0.013692"
     ]
    },
    {
     "name": "stdout",
     "output_type": "stream",
     "text": [
      "\r"
     ]
    },
    {
     "name": "stdout",
     "output_type": "stream",
     "text": [
      "\n",
      "ans =  0.0068231"
     ]
    },
    {
     "name": "stdout",
     "output_type": "stream",
     "text": [
      "\r"
     ]
    },
    {
     "name": "stdout",
     "output_type": "stream",
     "text": [
      "\n",
      "ans =  0.0034059"
     ]
    },
    {
     "name": "stdout",
     "output_type": "stream",
     "text": [
      "\r"
     ]
    },
    {
     "name": "stdout",
     "output_type": "stream",
     "text": [
      "\n",
      "ans =  0.0017015"
     ]
    },
    {
     "name": "stdout",
     "output_type": "stream",
     "text": [
      "\r\n",
      "ans =  0.00085039\r\n"
     ]
    }
   ],
   "source": [
    "N=2^10;\n",
    "for k=1:5\n",
    "[h,t,y] = rkc_first(0,4*pi,[1 0],N,5);\n",
    "t_n=linspace(0,4*pi,N+1);\n",
    "exact=zeros(N+1,2);\n",
    "exact(:,1)=cos(t_n/2);\n",
    "exact(:,2)=-1/2*sin(t_n/2);\n",
    "N=N*2;\n",
    "norm (y-exact, 'inf')\n",
    "end"
   ]
  },
  {
   "cell_type": "code",
   "execution_count": 10,
   "metadata": {
    "collapsed": false
   },
   "outputs": [
    {
     "name": "stdout",
     "output_type": "stream",
     "text": [
      "ans =  0.013480"
     ]
    },
    {
     "name": "stdout",
     "output_type": "stream",
     "text": [
      "\r"
     ]
    },
    {
     "name": "stdout",
     "output_type": "stream",
     "text": [
      "\n",
      "ans =  0.0067179"
     ]
    },
    {
     "name": "stdout",
     "output_type": "stream",
     "text": [
      "\r"
     ]
    },
    {
     "name": "stdout",
     "output_type": "stream",
     "text": [
      "\n",
      "ans =  0.0033534"
     ]
    },
    {
     "name": "stdout",
     "output_type": "stream",
     "text": [
      "\r"
     ]
    },
    {
     "name": "stdout",
     "output_type": "stream",
     "text": [
      "\n",
      "ans =  0.0016753"
     ]
    },
    {
     "name": "stdout",
     "output_type": "stream",
     "text": [
      "\r\n",
      "ans =  0.00083731\r\n"
     ]
    }
   ],
   "source": [
    "N=2^10;\n",
    "for k=1:5\n",
    "[h,t,y] = rkc_first(0,4*pi,[1 0],N,10);\n",
    "t_n=linspace(0,4*pi,N+1);\n",
    "exact=zeros(N+1,2);\n",
    "exact(:,1)=cos(t_n/2);\n",
    "exact(:,2)=-1/2*sin(t_n/2);\n",
    "N=N*2;\n",
    "norm (y-exact, 'inf')\n",
    "end"
   ]
  },
  {
   "cell_type": "code",
   "execution_count": 11,
   "metadata": {
    "collapsed": false
   },
   "outputs": [
    {
     "name": "stdout",
     "output_type": "stream",
     "text": [
      " added to session magics.\n",
      "\n"
     ]
    }
   ],
   "source": [
    "%%% Using EE method to solve ODEs.\n",
    "function[h,t,y] = EE(a,b,y0,N)\n",
    "%%Input   %a,b: starting, final time \n",
    "          %y0: initial value\n",
    "          %N: number of time interval\n",
    "%%Output  %h: stepsize\n",
    "          %t: timegrid\n",
    "          %v: numerical solution\n",
    "\n",
    "h=(b-a)/N;\n",
    "t=linspace(a,b,N+1);\n",
    "m=length(y0);\n",
    "y=zeros(N+1,m); \n",
    "%%RK2\n",
    "y(1,:)=y0;\n",
    "for j=1:N\n",
    "k_1=f(t(j),y(j,:));\n",
    "y(j+1,:)=y(j,:)+h*k_1;\n",
    "endfor\n",
    "endfunction"
   ]
  },
  {
   "cell_type": "code",
   "execution_count": 12,
   "metadata": {
    "collapsed": false
   },
   "outputs": [
    {
     "name": "stdout",
     "output_type": "stream",
     "text": [
      "ans =  0.020450"
     ]
    },
    {
     "name": "stdout",
     "output_type": "stream",
     "text": [
      "\r"
     ]
    },
    {
     "name": "stdout",
     "output_type": "stream",
     "text": [
      "\n",
      "ans =  0.010174"
     ]
    },
    {
     "name": "stdout",
     "output_type": "stream",
     "text": [
      "\r"
     ]
    },
    {
     "name": "stdout",
     "output_type": "stream",
     "text": [
      "\n",
      "ans =  0.0050747"
     ]
    },
    {
     "name": "stdout",
     "output_type": "stream",
     "text": [
      "\r"
     ]
    },
    {
     "name": "stdout",
     "output_type": "stream",
     "text": [
      "\n",
      "ans =  0.0025342"
     ]
    },
    {
     "name": "stdout",
     "output_type": "stream",
     "text": [
      "\r\n",
      "ans =  0.0012663\r\n"
     ]
    }
   ],
   "source": [
    "N=2^10;\n",
    "for k=1:5\n",
    "[h,t,y] = EE(0,4*pi,[1 0],N);\n",
    "t_n=linspace(0,4*pi,N+1);\n",
    "exact=zeros(N+1,2);\n",
    "exact(:,1)=cos(t_n/2);\n",
    "exact(:,2)=-1/2*sin(t_n/2);\n",
    "N=N*2;\n",
    "norm (y-exact, 'inf')\n",
    "end"
   ]
  },
  {
   "cell_type": "code",
   "execution_count": 0,
   "metadata": {
    "collapsed": false
   },
   "outputs": [
   ],
   "source": [
   ]
  }
 ],
 "metadata": {
  "kernelspec": {
   "display_name": "Octave",
   "language": "octave",
   "name": "octave"
  },
  "language_info": {
   "file_extension": ".m",
   "help_links": [
    {
     "text": "GNU Octave",
     "url": "https://www.gnu.org/software/octave/support.html"
    },
    {
     "text": "Octave Kernel",
     "url": "https://github.com/Calysto/octave_kernel"
    },
    {
     "text": "MetaKernel Magics",
     "url": "https://metakernel.readthedocs.io/en/latest/source/README.html"
    }
   ],
   "mimetype": "text/x-octave",
   "name": "octave",
   "version": "5.2.0"
  }
 },
 "nbformat": 4,
 "nbformat_minor": 4
}