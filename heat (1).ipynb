{
 "cells": [
  {
   "cell_type": "code",
   "execution_count": 3,
   "metadata": {
    "collapsed": false
   },
   "outputs": [
    {
     "name": "stdout",
     "output_type": "stream",
     "text": [
      " added to session magics.\n",
      "\n"
     ]
    }
   ],
   "source": [
    "%%% Define the Chebyshev with j=1,...5 and the (first and second -order)derivative functions of it.\n",
    "function ans=T0(x)\n",
    "    ans=1;\n",
    "endfunction\n",
    "function ans=T1(x)\n",
    "    ans=x;\n",
    "endfunction\n",
    "function ans=T2(x)\n",
    "    ans=2*x.^2-1;\n",
    "endfunction\n",
    "function ans=T3(x)\n",
    "    ans=4 * x.^3 - 3 * x;\n",
    "endfunction\n",
    "function ans=T4(x)\n",
    "    ans=1-8*x.^2+8*x.^4;\n",
    "endfunction\n",
    "function ans=T5(x)\n",
    "    ans=5*x-20*x.^3+16*x.^5;\n",
    "endfunction\n",
    "function ans=T6(x)\n",
    "    ans=32*x^6-48*x^4+18*x^2-1;\n",
    "endfunction\n",
    "function ans=T7(x)\n",
    "    ans=64*x^7-112*x^5+56*x^3-7*x;\n",
    "endfunction\n",
    "function ans=T8(x)\n",
    "    ans=128*x^8-256*x^6+160*x^4-32*x^2+1;\n",
    "endfunction\n",
    "function ans=T9(x)\n",
    "    ans=256*x^9-576*x^7+432*x^5-120*x^3+9*x;\n",
    "endfunction\n",
    "function ans=T10(x)\n",
    "    ans=512*x^10-1280*x^8+1120*x^6-400*x^4+50*x^2-1;\n",
    "endfunction\n",
    "%First-order\n",
    "function ans=dT0(x)\n",
    "    ans=0;\n",
    "endfunction\n",
    "function ans=dT1(x)\n",
    "    ans=1;\n",
    "endfunction\n",
    "function ans=dT2(x)\n",
    "    ans=4*x;\n",
    "endfunction\n",
    "function ans=dT3(x)\n",
    "    ans=12*x.^2-3;\n",
    "endfunction\n",
    "function ans=dT4(x)\n",
    "    ans=32*x.^3-16*x;\n",
    "endfunction\n",
    "function ans=dT5(x)\n",
    "    ans=80*x.^4-60*x.^2+5;\n",
    "endfunction\n",
    "function ans=dT6(x)\n",
    "    ans=32*6*x^5-48*4*x^3+18*2*x;\n",
    "endfunction\n",
    "function ans=dT7(x)\n",
    "    ans=64*7*x^6-112*5*x^4+56*3*x^2-7;\n",
    "endfunction\n",
    "function ans=dT8(x)\n",
    "    ans=128*8*x^7-256*6*x^5+160*4*x^3-32*2*x;\n",
    "endfunction\n",
    "function ans=dT9(x)\n",
    "    ans=256*9*x^8-576*7*x^6+432*5*x^4-120*3*x^2+9;\n",
    "endfunction\n",
    "function ans=dT10(x)\n",
    "    ans=512*10*x^9-1280*8*x^7+1120*6*x^5-400*4*x^3+50*2*x;\n",
    "endfunction\n",
    "%Second-order\n",
    "function ans=ddT0(x)\n",
    "    ans=0;\n",
    "endfunction\n",
    "function ans=ddT1(x)\n",
    "    ans=0;\n",
    "endfunction\n",
    "function ans=ddT2(x)\n",
    "    ans=4;\n",
    "endfunction\n",
    "function ans=ddT3(x)\n",
    "    ans=24*x;\n",
    "endfunction\n",
    "function ans=ddT4(x)\n",
    "    ans=96*x.^2-16;\n",
    "endfunction\n",
    "function ans=ddT5(x)\n",
    "    ans=320*x.^3-120*x;\n",
    "endfunction\n",
    "function ans=ddT6(x)\n",
    "    ans=32*6*5*x^4-48*4*3*x^2+18*2;\n",
    "endfunction\n",
    "function ans=ddT7(x)\n",
    "    ans=64*7*6*x^5-112*5*4*x^3+56*3*2*x;\n",
    "endfunction\n",
    "function ans=ddT8(x)\n",
    "    ans=128*8*7*x^6-256*6*5*x^4+160*4*3*x^2-32*2;\n",
    "endfunction\n",
    "function ans=ddT9(x)\n",
    "    ans=256*9*8*x^7-576*7*6*x^5+432*5*4*x^3-120*3*2*x;\n",
    "endfunction\n",
    "function ans=ddT10(x)\n",
    "    ans=512*10*9*x^8-1280*8*7*x^6+1120*6*5*x^4-400*4*3*x^2+50*2;\n",
    "endfunction\n",
    "%%Define the function f\n",
    "function rhs=f(n,h,t,y) \n",
    "% n: the number of ODE in ODE system\n",
    "% h: step-size    \n",
    "    rhs=zeros(1,n);\n",
    "    rhs(1)=0;\n",
    "    for i=2:n-1\n",
    "        rhs(i)=1/h^2 * y(i-1)+(1-2/h^2)*y(i)+1/h^2 * y(i+1);\n",
    "    endfor\n",
    "    rhs(n)=0;\n",
    "endfunction"
   ]
  },
  {
   "cell_type": "code",
   "execution_count": 4,
   "metadata": {
    "collapsed": false
   },
   "outputs": [
   ],
   "source": [
    "%% RKC method with 10 stages.\n",
    "function [h,t,y]=rkc10heat(a,b,y0,N)\n",
    "%%Input   %a,b: starting, final time \n",
    "          %y0: initial value\n",
    "          %N: number of time interval\n",
    "%%Output  %h: stepsize\n",
    "          %t: timegrid\n",
    "          %y: numerical solution\n",
    "    h = (b-a)/N;\n",
    "    t = a:h:b;\n",
    "    epsilon = 0.05;  %damping parameter\n",
    "    s = 10; % number of stages\n",
    "    w0 = 1+epsilon/s^2;\n",
    "    w1 = dT10(w0)/ddT10(w0);\n",
    "    %%Define coefficients\n",
    "    b = a = mu = nu = c= mu_t = gamma_t = zeros(s+1,1);\n",
    "    b(1) =  b(2) = b(3) = ddT2(w0) / (dT2(w0) ^2 );   \n",
    "    b(4) = ddT3(w0) / (dT3(w0)^2);\n",
    "    b(5) = ddT4(w0) / (dT4(w0)^2);\n",
    "    b(6) = ddT5(w0) / (dT5(w0)^2);\n",
    "    b(7) = ddT6(w0) / (dT6(w0)^2);\n",
    "    b(8) = ddT7(w0) / (dT7(w0)^2);\n",
    "    b(9) = ddT8(w0) / (dT8(w0)^2);\n",
    "    b(10) = ddT9(w0) / (dT9(w0)^2);\n",
    "    b(11) = ddT10(w0) / (dT10(w0)^2);\n",
    "    % a_j+1=1-b_{j+1}*T_j(w0)    \n",
    "    a(2) = 1 - b(2) * T1(w0);\n",
    "    a(3) = 1 - b(3) * T2(w0);\n",
    "    a(4) = 1 - b(4) * T3(w0);\n",
    "    a(5) = 1 - b(5) * T4(w0);\n",
    "    a(6) = 1 - b(6) * T5(w0);\n",
    "    a(7) = 1 - b(7) * T6(w0);\n",
    "    a(8) = 1 - b(8) * T7(w0);\n",
    "    a(9) = 1 - b(9) * T8(w0);\n",
    "    a(10) = 1 - b(10) * T9(w0);\n",
    "    a(11) = 1 - b(11) * T10(w0);\n",
    "\n",
    "    %mu_j+1=-2b_jw_0/b_{j-1}\n",
    "    for i=3:s+1\n",
    "        mu(i) = 2 * w0 * b(i) / b(i-1);\n",
    "    endfor\n",
    "    %nu_j=-b_j/(b_{j-2})\n",
    "    for i = 3:s+1\n",
    "        nu(i) = -b(i) / b(i-2); \n",
    "    endfor\n",
    "    %c_j=w1*b_j*T'_j(w0)\n",
    "    c(1)= 0;\n",
    "    c(2) = w1 * b(2) * dT1(w0);\n",
    "    c(3) = w1 * b(3) * dT2(w0);\n",
    "    %c(2) = c(3)/dT2(w0);\n",
    "    c(4) = w1 * b(4) * dT3(w0);\n",
    "    c(5) = w1 * b(5) * dT4(w0);\n",
    "    c(6) = w1 * b(6) * dT5(w0);\n",
    "    c(7) = w1 * b(7) * dT6(w0);\n",
    "    c(8) = w1 * b(8) * dT7(w0);\n",
    "    c(9) = w1 * b(9) * dT8(w0);\n",
    "    c(10) = w1 * b(10) * dT9(w0);\n",
    "    c(11) = 1;\n",
    "    %mu_t(i) = 2 * w1*b(i) / b(i-1)\n",
    "    mu_t(2) = b(2)*w1;\n",
    "    for i = 3:s+1\n",
    "        mu_t(i) = 2 * w1 *b(i) / b(i-1);\n",
    "    endfor    \n",
    "    %gamma_t= -a_{j-1} *mu_t(j)\n",
    "    gamma_t(2) = c(2);\n",
    "    for i = 3:s+1\n",
    "        gamma_t(i) = - a(i-1) * mu_t(i);\n",
    "    endfor\n",
    "    %%%% Main loop\n",
    "    g = zeros(s+1,N+1);\n",
    "    y=zeros(N+1,N+1);\n",
    "    y(1,:) = y0;\n",
    "    for i = 1:N\n",
    "        g(1,:) = y(i,:);\n",
    "        g(2,:) = g(1,:) + mu_t(2) * h * f(N+1,h,t(i)+c(1)*h,g(1,:));\n",
    "        for j=3:s+1\n",
    "            g(j,:) = (1-mu(j)-nu(j)) * g(1,:) + mu(j)* g(j-1,:) + nu(j)*g(j-2,:) + mu_t(j) * h * f(N+1,h,t(i)+c(j-1),g(j-1,:)) + gamma_t(j) * h * f(N+1,h,t(i)+c(1)*h,g(1,:));\n",
    "        endfor\n",
    "        y(i+1,:) = g(s+1,:);\n",
    "    endfor      \n",
    "endfunction"
   ]
  },
  {
   "cell_type": "code",
   "execution_count": 45,
   "metadata": {
    "collapsed": false
   },
   "outputs": [
    {
     "name": "stdout",
     "output_type": "stream",
     "text": [
      "ans =  1\r\n"
     ]
    },
    {
     "data": {
      "image/png": "[encoded data removed]",
      "text/plain": [
       "<IPython.core.display.Image object>"
      ]
     },
     "execution_count": 45,
     "metadata": {
     },
     "output_type": "execute_result"
    }
   ],
   "source": [
    "%%Plot the numerical solution.\n",
    "a=0;\n",
    "b=0.5;\n",
    "N=8;\n",
    "h=(b-a)/N;\n",
    "y0=zeros(1,N+1);\n",
    "for i=1:N+1\n",
    "    y0(i)=sin(pi/(N) * (i-1));\n",
    "endfor\n",
    "[h,t,y] = rkc10heat(a,b,y0,N);\n",
    "xgrid=linspace(0,1,9);\n",
    "ribbon(xgrid',y);\n",
    "view([50 30])\n",
    "xlabel('x')\n",
    "ylabel('Time')\n",
    "y(1,5)\n",
    "err=0;\n",
    "for i=1:N+1\n",
    "    for j=1:N+1\n",
    "        err = max (err, y(i,j) -e.^((1-pi^2)*i/N).*sin(pi*xgrid(j)));\n",
    "    endfor\n",
    "endfor\n",
    "err\n",
    "err=0;\n",
    "for i=1:N+1\n",
    "    for j=1:N+1\n",
    "        err = max (err, y(i,j) -e.^((1-pi^2)*i/N).*sin(pi*xgrid(j)));\n",
    "    endfor\n",
    "endfor\n",
    "err"
   ]
  },
  {
   "cell_type": "code",
   "execution_count": 3,
   "metadata": {
    "collapsed": false
   },
   "outputs": [
    {
     "data": {
      "image/png": "[encoded data removed]",
      "text/plain": [
       "<IPython.core.display.Image object>"
      ]
     },
     "execution_count": 3,
     "metadata": {
     },
     "output_type": "execute_result"
    }
   ],
   "source": [
    "%%Exact solution\n",
    "ty = linspace (0, 1, 41)';\n",
    "tx = linspace (0, 0.5, 41)';\n",
    "[xx, yy] = meshgrid (tx, ty);\n",
    "tz =e.^((1-pi^2)*xx).*sin(pi*yy);\n",
    "mesh (tx, ty, tz);\n",
    "view([-50 20])\n",
    "xlabel (\"t\");\n",
    "ylabel (\"x\");\n",
    "zlabel (\"u(t,x)\");\n",
    "title (\"Exact solution\");"
   ]
  },
  {
   "cell_type": "code",
   "execution_count": 0,
   "metadata": {
    "collapsed": false
   },
   "outputs": [
   ],
   "source": [
   ]
  }
 ],
 "metadata": {
  "kernelspec": {
   "display_name": "Octave",
   "language": "octave",
   "name": "octave"
  },
  "language_info": {
   "file_extension": ".m",
   "help_links": [
    {
     "text": "GNU Octave",
     "url": "https://www.gnu.org/software/octave/support.html"
    },
    {
     "text": "Octave Kernel",
     "url": "https://github.com/Calysto/octave_kernel"
    },
    {
     "text": "MetaKernel Magics",
     "url": "https://metakernel.readthedocs.io/en/latest/source/README.html"
    }
   ],
   "mimetype": "text/x-octave",
   "name": "octave",
   "version": "5.2.0"
  }
 },
 "nbformat": 4,
 "nbformat_minor": 4
}