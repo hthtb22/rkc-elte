{
 "cells": [
  {
   "cell_type": "code",
   "execution_count": 3,
   "metadata": {
    "collapsed": false
   },
   "outputs": [
    {
     "name": "stdout",
     "output_type": "stream",
     "text": [
      " added to session magics.\n",
      "\n"
     ]
    }
   ],
   "source": [
    "%%% Define the Chebyshev with j=1,...5 and the (first and second -order)derivative functions of it.\n",
    "function ans=T0(x)\n",
    "    ans=1;\n",
    "endfunction\n",
    "function ans=T1(x)\n",
    "    ans=x;\n",
    "endfunction\n",
    "function ans=T2(x)\n",
    "    ans=2*x.^2-1;\n",
    "endfunction\n",
    "function ans=T3(x)\n",
    "    ans=4 * x.^3 - 3 * x;\n",
    "endfunction\n",
    "function ans=T4(x)\n",
    "    ans=1-8*x.^2+8*x.^4;\n",
    "endfunction\n",
    "function ans=T5(x)\n",
    "    ans=5*x-20*x.^3+16*x.^5;\n",
    "endfunction\n",
    "%First-order\n",
    "function ans=dT0(x)\n",
    "    ans=0;\n",
    "endfunction\n",
    "function ans=dT1(x)\n",
    "    ans=1;\n",
    "endfunction\n",
    "function ans=dT2(x)\n",
    "    ans=4*x;\n",
    "endfunction\n",
    "function ans=dT3(x)\n",
    "    ans=12*x.^2-3;\n",
    "endfunction\n",
    "function ans=dT4(x)\n",
    "    ans=32*x.^3-16*x;\n",
    "endfunction\n",
    "function ans=dT5(x)\n",
    "    ans=80*x.^4-60*x.^2+5;\n",
    "endfunction\n",
    "%Second-order\n",
    "function ans=ddT0(x)\n",
    "    ans=0;\n",
    "endfunction\n",
    "function ans=ddT1(x)\n",
    "    ans=0;\n",
    "endfunction\n",
    "function ans=ddT2(x)\n",
    "    ans=4;\n",
    "endfunction\n",
    "function ans=ddT3(x)\n",
    "    ans=24*x;\n",
    "endfunction\n",
    "function ans=ddT4(x)\n",
    "    ans=96*x.^2-16;\n",
    "endfunction\n",
    "function ans=ddT5(x)\n",
    "    ans=320*x.^3-120*x;\n",
    "endfunction\n",
    "\n",
    "%%Define the function f(x,y)=(y,-1/4*x)\n",
    "function rhs=f(t,y)\n",
    "rhs=zeros(1,2);\n",
    "rhs(1)=y(2);\n",
    "rhs(2)=-1/4*y(1);\n",
    "endfunction"
   ]
  },
  {
   "cell_type": "code",
   "execution_count": 4,
   "metadata": {
    "collapsed": false
   },
   "outputs": [
   ],
   "source": [
    "%% RKC method with 5 stages.\n",
    "function [h,t,y]=rkc5(a,b,y0,N)\n",
    "%%Input   %a,b: starting, final time \n",
    "          %y0: initial value\n",
    "          %N: number of time interval\n",
    "%%Output  %h: stepsize\n",
    "          %t: timegrid\n",
    "          %y: numerical solution\n",
    "    h = (b-a)/N;\n",
    "    t = a:h:b;\n",
    "    epsilon = 0.15;  %damping parameter\n",
    "    s = 5; % number of stages\n",
    "    w0 = 1+epsilon/s^2;\n",
    "    w1 = dT5(w0)/ddT5(w0);\n",
    "    %%Define coefficients\n",
    "    b = a = mu = nu = c= mu_t = gamma_t = zeros(s+1,1);\n",
    "    b(1) =  b(2) = b(3) = ddT2(w0) / (dT2(w0) ^2 );   \n",
    "    b(4) = ddT3(w0) / (dT3(w0)^2);\n",
    "    b(5) = ddT4(w0) / (dT4(w0)^2);\n",
    "    b(6) = ddT5(w0) / (dT5(w0)^2);\n",
    "    % a_j+1=1-b_{j+1}*T_j(w0)    \n",
    "    a(2) = 1 - b(2) * T1(w0);\n",
    "    a(3) = 1 - b(3) * T2(w0);\n",
    "    a(4) = 1 - b(4) * T3(w0);\n",
    "    a(5) = 1 - b(5) * T4(w0);\n",
    "    a(6) = 1 - b(6) * T5(w0);\n",
    "\n",
    "    %mu_j+1=-2b_jw_0/b_{j-1}\n",
    "    for i=3:6\n",
    "        mu(i) = 2 * w0 * b(i) / b(i-1);\n",
    "    endfor\n",
    "    %nu_j=-b_j/(b_{j-2})\n",
    "    for i = 3:6\n",
    "        nu(i) = -b(i) / b(i-2); \n",
    "    endfor\n",
    "    %c_j=w1*b_j*T'_j(w0)\n",
    "    c(1)= 0;\n",
    "    c(2) = w1 * b(2) * dT1(w0);\n",
    "    c(3) = w1 * b(3) * dT2(w0);\n",
    "    %c(2) = c(3)/dT2(w0);\n",
    "    c(4) = w1 * b(4) * dT3(w0);\n",
    "    c(5) = w1 * b(5) * dT4(w0);\n",
    "    c(6) = 1;\n",
    "    %mu_t(i) = 2 * w1*b(i) / b(i-1)\n",
    "    mu_t(2) = b(2)*w1;\n",
    "    for i = 3:6\n",
    "        mu_t(i) = 2 * w1 *b(i) / b(i-1);\n",
    "    endfor    \n",
    "    %gamma_t= -a_{j-1} *mu_t(j)\n",
    "    gamma_t(2) = c(2);\n",
    "    for i = 3:6\n",
    "        gamma_t(i) = - a(i-1) * mu_t(i);\n",
    "    endfor\n",
    "    %%%% Main loop\n",
    "    g = zeros(s+1,2);\n",
    "    y=zeros(N+1,2);\n",
    "    y(1,:) = y0;\n",
    "    for i = 1:N\n",
    "        g(1,:) = y(i,:);\n",
    "        g(2,:) = g(1,:) + mu_t(2)*h*f(t(i)+c(1)*h,g(1,:));\n",
    "        for j=3:s+1\n",
    "            g(j,:) = (1-mu(j)-nu(j))*g(1,:) + mu(j)* g(j-1,:) + nu(j)*g(j-2,:) + mu_t(j)*h*f(t(i)+c(j-1),g(j-1,:)) + gamma_t(j)*h*f(t(i)+c(1)*h,g(1,:));\n",
    "        endfor\n",
    "        y(i+1,:) = g(s+1,:);\n",
    "    endfor    \n",
    "endfunction"
   ]
  },
  {
   "cell_type": "code",
   "execution_count": 28,
   "metadata": {
    "collapsed": false
   },
   "outputs": [
    {
     "data": {
      "image/png": "[encoded data removed]",
      "text/plain": [
       "<IPython.core.display.Image object>"
      ]
     },
     "execution_count": 28,
     "metadata": {
     },
     "output_type": "execute_result"
    }
   ],
   "source": [
    "%%Plot the numerical solution.\n",
    "[h,t,y] = rkc5(0,4*pi,[1 0],256);\n",
    "plot(t,y(:,1),t,y(:,2));"
   ]
  },
  {
   "cell_type": "code",
   "execution_count": 30,
   "metadata": {
    "collapsed": false
   },
   "outputs": [
    {
     "name": "stdout",
     "output_type": "stream",
     "text": [
      "ans =  0.000017356\r\n"
     ]
    }
   ],
   "source": [
    "%% Compare with exact solution\n",
    "N=1024;\n",
    "[h,t,y] = rkc5(0,4*pi,[1 0],N);\n",
    "t_n=linspace(0,4*pi,N+1);\n",
    "exact=zeros(N+1,2);\n",
    "exact(:,1)=cos(t_n/2);\n",
    "exact(:,2)=-1/2*sin(t_n/2);\n",
    "\n",
    "norm (y-exact, 'inf')"
   ]
  },
  {
   "cell_type": "code",
   "execution_count": 7,
   "metadata": {
    "collapsed": false
   },
   "outputs": [
    {
     "name": "stdout",
     "output_type": "stream",
     "text": [
      " added to session magics.\n",
      "\n"
     ]
    }
   ],
   "source": [
    "%%% Using RK2 method to solve ODE.\n",
    "function[h,t,y] = RK2(a,b,y0,N)\n",
    "%%Input   %a,b: starting, final time \n",
    "          %y0: initial value\n",
    "          %N: number of time interval\n",
    "%%Output  %h: stepsize\n",
    "          %t: timegrid\n",
    "          %v: numerical solution\n",
    "\n",
    "h=(b-a)/N;\n",
    "t=linspace(a,b,N+1);\n",
    "m=length(y0);\n",
    "y=zeros(N+1,m); \n",
    "%%RK2\n",
    "y(1,:)=y0;\n",
    "for j=1:N\n",
    "k_1=f(t(j),y(j,:));\n",
    "k_2=f(t(j)+0.5*h,y(j,:)+0.5*h*k_1) ;\n",
    "y(j+1,:)=y(j,:)+h*k_2;\n",
    "endfor\n",
    "endfunction"
   ]
  },
  {
   "cell_type": "code",
   "execution_count": 12,
   "metadata": {
    "collapsed": false
   },
   "outputs": [
    {
     "data": {
      "image/png": "[encoded data removed]",
      "text/plain": [
       "<IPython.core.display.Image object>"
      ]
     },
     "execution_count": 12,
     "metadata": {
     },
     "output_type": "execute_result"
    }
   ],
   "source": [
    "[h,t,y] = RK2(0,4*pi,[1 0],256);\n",
    "plot(t,y(:,1)',t,y(:,2)')"
   ]
  },
  {
   "cell_type": "code",
   "execution_count": 31,
   "metadata": {
    "collapsed": false
   },
   "outputs": [
    {
     "name": "stdout",
     "output_type": "stream",
     "text": [
      "ans =  0.000017356"
     ]
    },
    {
     "name": "stdout",
     "output_type": "stream",
     "text": [
      "\r"
     ]
    },
    {
     "name": "stdout",
     "output_type": "stream",
     "text": [
      "\n",
      "ans =  0.0000043377"
     ]
    },
    {
     "name": "stdout",
     "output_type": "stream",
     "text": [
      "\r"
     ]
    },
    {
     "name": "stdout",
     "output_type": "stream",
     "text": [
      "\n",
      "ans =  0.0000010843"
     ]
    },
    {
     "name": "stdout",
     "output_type": "stream",
     "text": [
      "\r"
     ]
    },
    {
     "name": "stdout",
     "output_type": "stream",
     "text": [
      "\n",
      "ans =  0.00000027104"
     ]
    },
    {
     "name": "stdout",
     "output_type": "stream",
     "text": [
      "\r\n",
      "ans =  0.000000067758\r\n"
     ]
    }
   ],
   "source": [
    "N=2^10;\n",
    "for k=1:5\n",
    "[h,t,y] = rkc5(0,4*pi,[1 0],N);\n",
    "t_n=linspace(0,4*pi,N+1);\n",
    "exact=zeros(N+1,2);\n",
    "exact(:,1)=cos(t_n/2);\n",
    "exact(:,2)=-1/2*sin(t_n/2);\n",
    "N=N*2;\n",
    "norm (y-exact, 'inf')\n",
    "end"
   ]
  },
  {
   "cell_type": "code",
   "execution_count": 8,
   "metadata": {
    "collapsed": false
   },
   "outputs": [
    {
     "name": "stdout",
     "output_type": "stream",
     "text": [
      "ans =  0.000037001"
     ]
    },
    {
     "name": "stdout",
     "output_type": "stream",
     "text": [
      "\r"
     ]
    },
    {
     "name": "stdout",
     "output_type": "stream",
     "text": [
      "\n",
      "ans =  0.0000092462"
     ]
    },
    {
     "name": "stdout",
     "output_type": "stream",
     "text": [
      "\r"
     ]
    },
    {
     "name": "stdout",
     "output_type": "stream",
     "text": [
      "\n",
      "ans =  0.0000023111"
     ]
    },
    {
     "name": "stdout",
     "output_type": "stream",
     "text": [
      "\r"
     ]
    },
    {
     "name": "stdout",
     "output_type": "stream",
     "text": [
      "\n",
      "ans =  0.00000057770"
     ]
    },
    {
     "name": "stdout",
     "output_type": "stream",
     "text": [
      "\r\n",
      "ans =  0.00000014442\r\n"
     ]
    }
   ],
   "source": [
    "N=2^10;\n",
    "for k=1:5\n",
    "[h,t,y] = RK2(0,4*pi,[1 0],N);\n",
    "t_n=linspace(0,4*pi,N+1);\n",
    "exact=zeros(N+1,2);\n",
    "exact(:,1)=cos(t_n/2);\n",
    "exact(:,2)=-1/2*sin(t_n/2);\n",
    "N=N*2;\n",
    "norm (y-exact, 'inf')\n",
    "end"
   ]
  },
  {
   "cell_type": "code",
   "execution_count": 0,
   "metadata": {
    "collapsed": false
   },
   "outputs": [
   ],
   "source": [
   ]
  }
 ],
 "metadata": {
  "kernelspec": {
   "display_name": "Octave",
   "language": "octave",
   "name": "octave"
  },
  "language_info": {
   "file_extension": ".m",
   "help_links": [
    {
     "text": "GNU Octave",
     "url": "https://www.gnu.org/software/octave/support.html"
    },
    {
     "text": "Octave Kernel",
     "url": "https://github.com/Calysto/octave_kernel"
    },
    {
     "text": "MetaKernel Magics",
     "url": "https://metakernel.readthedocs.io/en/latest/source/README.html"
    }
   ],
   "mimetype": "text/x-octave",
   "name": "octave",
   "version": "5.2.0"
  }
 },
 "nbformat": 4,
 "nbformat_minor": 4
}